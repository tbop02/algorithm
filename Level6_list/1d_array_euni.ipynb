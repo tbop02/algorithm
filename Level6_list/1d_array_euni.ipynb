{
 "cells": [
  {
   "cell_type": "markdown",
   "metadata": {},
   "source": [
    "#### 단어의 개수"
   ]
  },
  {
   "cell_type": "code",
   "execution_count": 43,
   "metadata": {
    "scrolled": true
   },
   "outputs": [
    {
     "name": "stdout",
     "output_type": "stream",
     "text": [
      "스터디 재밌음..ㅎ\n",
      "2\n"
     ]
    }
   ],
   "source": [
    "string = input()\n",
    "\n",
    "print(len(string.split()))"
   ]
  },
  {
   "cell_type": "markdown",
   "metadata": {},
   "source": [
    "#### 숫자의 개수"
   ]
  },
  {
   "cell_type": "code",
   "execution_count": 8,
   "metadata": {
    "scrolled": true
   },
   "outputs": [
    {
     "name": "stdout",
     "output_type": "stream",
     "text": [
      "150\n",
      "266\n",
      "427\n",
      "3\n",
      "1\n",
      "0\n",
      "2\n",
      "0\n",
      "0\n",
      "0\n",
      "2\n",
      "0\n",
      "0\n"
     ]
    }
   ],
   "source": [
    "a = eval(input())\n",
    "b = eval(input())\n",
    "c = eval(input())\n",
    "\n",
    "num = str(a * b * c)\n",
    "\n",
    "for i in range(10):\n",
    "    print(num.count(str(i)))"
   ]
  },
  {
   "cell_type": "markdown",
   "metadata": {},
   "source": [
    "#### OX퀴즈"
   ]
  },
  {
   "cell_type": "code",
   "execution_count": 21,
   "metadata": {
    "scrolled": true
   },
   "outputs": [
    {
     "name": "stdout",
     "output_type": "stream",
     "text": [
      "2\n",
      "OOXXOXXOOO\n",
      "OOXXOOXXOO\n",
      "['OOXXOXXOOO', 'OOXXOOXXOO']\n",
      "10\n",
      "9\n"
     ]
    }
   ],
   "source": [
    "# To-do: 더 이쁘게 풀기\n",
    "n = eval(input())\n",
    "\n",
    "li_ = [input() for i in range(n)]\n",
    "\n",
    "cnt = 0\n",
    "\n",
    "for j in li_:\n",
    "    a = 1\n",
    "    for z in range(len(j) - 1):\n",
    "        if j[z] == 'O':\n",
    "            cnt += a\n",
    "            if j[z] == j[z+1]:\n",
    "                a += 1\n",
    "            else:\n",
    "                a = 1\n",
    "\n",
    "    if j[-1] == 'O':\n",
    "        cnt += a\n",
    "    print(cnt)\n",
    "    cnt = 0"
   ]
  },
  {
   "cell_type": "markdown",
   "metadata": {},
   "source": [
    "#### 음계"
   ]
  },
  {
   "cell_type": "code",
   "execution_count": 35,
   "metadata": {
    "scrolled": true
   },
   "outputs": [
    {
     "name": "stdout",
     "output_type": "stream",
     "text": [
      "8 7 6 5 4 3 2 1\n",
      "descending\n"
     ]
    }
   ],
   "source": [
    "arr = [1,2,3,4,5,6,7,8] \n",
    "# arr.reverse()\n",
    "# arr_r = arr.copy()\n",
    "# arr.sort()\n",
    "\n",
    "arr_r = arr[::-1]\n",
    "\n",
    "in_ = [int(x) for x in input().split()]\n",
    "\n",
    "if in_ == arr:\n",
    "    print('ascending')\n",
    "    \n",
    "elif in_ == arr_r:\n",
    "    print('descending')\n",
    "    \n",
    "else:\n",
    "    print('mixed')"
   ]
  },
  {
   "cell_type": "markdown",
   "metadata": {},
   "source": [
    "#### 평균점수"
   ]
  },
  {
   "cell_type": "code",
   "execution_count": 41,
   "metadata": {},
   "outputs": [
    {
     "name": "stdout",
     "output_type": "stream",
     "text": [
      "10\n",
      "65\n",
      "100\n",
      "30\n",
      "95\n",
      "68\n"
     ]
    }
   ],
   "source": [
    "re = 0\n",
    "\n",
    "for i in range(5):\n",
    "    n = int(input())\n",
    "    if n < 40:\n",
    "        n = 40\n",
    "    re += n\n",
    "\n",
    "print(re // 5)"
   ]
  }
 ],
 "metadata": {
  "kernelspec": {
   "display_name": "Python 3",
   "language": "python",
   "name": "python3"
  },
  "language_info": {
   "codemirror_mode": {
    "name": "ipython",
    "version": 3
   },
   "file_extension": ".py",
   "mimetype": "text/x-python",
   "name": "python",
   "nbconvert_exporter": "python",
   "pygments_lexer": "ipython3",
   "version": "3.6.3"
  }
 },
 "nbformat": 4,
 "nbformat_minor": 2
}
