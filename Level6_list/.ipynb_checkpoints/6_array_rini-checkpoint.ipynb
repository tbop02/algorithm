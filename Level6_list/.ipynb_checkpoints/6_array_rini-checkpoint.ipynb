{
 "cells": [
  {
   "cell_type": "markdown",
   "metadata": {},
   "source": [
    "단어의 개수"
   ]
  },
  {
   "cell_type": "code",
   "execution_count": null,
   "metadata": {},
   "outputs": [],
   "source": [
    "cnt = 0\n",
    "txt = input().split()\n",
    "sen=[]\n",
    "\n",
    "for cnt in txt:\n",
    "    sen.append(cnt)\n",
    "    \n",
    "print(len(sen))\n"
   ]
  },
  {
   "cell_type": "markdown",
   "metadata": {},
   "source": [
    "숫자의 개수"
   ]
  },
  {
   "cell_type": "code",
   "execution_count": null,
   "metadata": {},
   "outputs": [],
   "source": [
    "a=int(input())\n",
    "b=int(input())\n",
    "c=int(input())\n",
    "res = a*b*c\n",
    "res=list(str(res))\n",
    "i=0\n",
    "while i <10:\n",
    "    print(res.count(str(i)))\n",
    "    i+=1"
   ]
  },
  {
   "cell_type": "markdown",
   "metadata": {},
   "source": [
    "OX퀴즈"
   ]
  },
  {
   "cell_type": "code",
   "execution_count": 11,
   "metadata": {
    "scrolled": true
   },
   "outputs": [
    {
     "name": "stdout",
     "output_type": "stream",
     "text": [
      "2\n",
      "OXOXOXOXOXOXOX\n",
      "OOXXOOXXOO\n",
      "7\n",
      "9\n"
     ]
    }
   ],
   "source": [
    "casenum=int(input())\n",
    "tst=[]\n",
    "res=0\n",
    "\n",
    "for i in range(casenum):\n",
    "    i = input()\n",
    "    tst.append(i)\n",
    "for j in tst:\n",
    "    sumres=0\n",
    "    res=0\n",
    "    for k in j:\n",
    "        if k=='O':\n",
    "            res+=1\n",
    "            sumres += res\n",
    "        else :\n",
    "            res=0\n",
    "    print(sumres)"
   ]
  },
  {
   "cell_type": "markdown",
   "metadata": {},
   "source": [
    "음계"
   ]
  },
  {
   "cell_type": "code",
   "execution_count": null,
   "metadata": {},
   "outputs": [],
   "source": [
    "numlist=map(int,input().split())\n",
    "n=list(numlist)\n",
    "diff_list=[]\n",
    "for i in range(len(n)-1):\n",
    "    diff=n[i+1]-n[i]\n",
    "    diff_list.append(diff)\n",
    "print(diff_list)\n",
    "\n",
    "for j in range(len(diff_list)-1):    \n",
    "    res=diff_list[j+1]*diff_list[j]\n",
    "    print(res)\n",
    "    \n",
    "    if diff_list[i] > 0:\n",
    "        if res > 0 :\n",
    "            txt='ascending'\n",
    "        elif diff_list[i] <0:\n",
    "        if res > 0 :\n",
    "            txt='descending'\n",
    "        else :\n",
    "            txt = 'mixed'\n",
    "print(txt)    \n"
   ]
  },
  {
   "cell_type": "code",
   "execution_count": null,
   "metadata": {},
   "outputs": [],
   "source": [
    "numlist=map(int,input().split())\n",
    "n=list(numlist)\n",
    "a = sorted(n)\n",
    "d = sorted(n,reverse=True)\n",
    "\n",
    "if n == a:\n",
    "    x='ascending'\n",
    "elif n == d :\n",
    "    x='descending'\n",
    "else:\n",
    "    x='mixed'\n",
    "print(x)"
   ]
  },
  {
   "cell_type": "markdown",
   "metadata": {},
   "source": [
    "평균점수"
   ]
  },
  {
   "cell_type": "code",
   "execution_count": null,
   "metadata": {
    "scrolled": true
   },
   "outputs": [],
   "source": [
    "a = int(input())\n",
    "b = int(input())\n",
    "c = int(input())\n",
    "d = int(input())\n",
    "e = int(input())\n",
    "score=[a,b,c,d,e]\n",
    "sum =0\n",
    "for i in score:\n",
    "    if i < 40 :\n",
    "        i = 40\n",
    "    sum += i\n",
    "print(int(sum/len(score)))\n",
    "    "
   ]
  }
 ],
 "metadata": {
  "kernelspec": {
   "display_name": "Python 3",
   "language": "python",
   "name": "python3"
  },
  "language_info": {
   "codemirror_mode": {
    "name": "ipython",
    "version": 3
   },
   "file_extension": ".py",
   "mimetype": "text/x-python",
   "name": "python",
   "nbconvert_exporter": "python",
   "pygments_lexer": "ipython3",
   "version": "3.5.4"
  }
 },
 "nbformat": 4,
 "nbformat_minor": 2
}
