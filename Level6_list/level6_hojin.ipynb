{
 "cells": [
  {
   "cell_type": "code",
   "execution_count": null,
   "metadata": {},
   "outputs": [],
   "source": []
  },
  {
   "cell_type": "markdown",
   "metadata": {},
   "source": [
    "단어의 개수"
   ]
  },
  {
   "cell_type": "code",
   "execution_count": 2,
   "metadata": {},
   "outputs": [
    {
     "name": "stdout",
     "output_type": "stream",
     "text": [
      "dfjwkjf\n",
      "1\n"
     ]
    }
   ],
   "source": [
    "cnt = 0\n",
    "txt = input().split()\n",
    "sen=[cnt for cnt in txt]\n",
    "print(len(sen))"
   ]
  },
  {
   "cell_type": "markdown",
   "metadata": {},
   "source": [
    "숫자의 개수"
   ]
  },
  {
   "cell_type": "code",
   "execution_count": 3,
   "metadata": {},
   "outputs": [
    {
     "name": "stdout",
     "output_type": "stream",
     "text": [
      "231412\n",
      "231\n",
      "23\n",
      "0\n",
      "2\n",
      "2\n",
      "0\n",
      "1\n",
      "1\n",
      "1\n",
      "0\n",
      "0\n",
      "3\n"
     ]
    }
   ],
   "source": [
    "a=int(input())\n",
    "b=int(input())\n",
    "c=int(input())\n",
    "res = a*b*c\n",
    "res=list(str(res))\n",
    "i=0\n",
    "while i <10:\n",
    "    print(res.count(str(i)))\n",
    "    i+=1\n",
    "#with rini"
   ]
  },
  {
   "cell_type": "markdown",
   "metadata": {},
   "source": [
    "OX퀴즈"
   ]
  },
  {
   "cell_type": "code",
   "execution_count": 1,
   "metadata": {},
   "outputs": [
    {
     "name": "stdout",
     "output_type": "stream",
     "text": [
      "3\n",
      "OXXOOOXXX\n",
      "OXXOXO\n",
      "OXOXXO\n",
      "7\n",
      "3\n",
      "3\n"
     ]
    }
   ],
   "source": [
    "#with rini\n",
    "casenum=int(input())\n",
    "tst=[]\n",
    "res=0\n",
    "\n",
    "for i in range(casenum):\n",
    "    i = input()\n",
    "    tst.append(i)\n",
    "for j in tst:\n",
    "    sumres=0\n",
    "    res=0\n",
    "    for k in j:\n",
    "        if k=='O':\n",
    "            res+=1\n",
    "            sumres += res\n",
    "        else :\n",
    "            res=0\n",
    "    print(sumres)"
   ]
  },
  {
   "cell_type": "markdown",
   "metadata": {},
   "source": [
    "음계"
   ]
  },
  {
   "cell_type": "code",
   "execution_count": null,
   "metadata": {},
   "outputs": [],
   "source": [
    "#with rini\n",
    "numlist=map(int,input().split())\n",
    "n=list(numlist)\n",
    "a = sorted(n)\n",
    "d = sorted(n,reverse=True)\n",
    "if n == a:\n",
    "    x='ascending'\n",
    "elif n == d :\n",
    "    x='descending'\n",
    "else:\n",
    "    x='mixed'\n",
    "print(x)"
   ]
  },
  {
   "cell_type": "markdown",
   "metadata": {},
   "source": [
    "10039 평균점수"
   ]
  },
  {
   "cell_type": "code",
   "execution_count": 14,
   "metadata": {},
   "outputs": [
    {
     "name": "stdout",
     "output_type": "stream",
     "text": [
      "10\n",
      "65\n",
      "100\n",
      "30\n",
      "95\n",
      "68\n"
     ]
    }
   ],
   "source": [
    "numlist=[int(input()) for i in range(5)]\n",
    "new_list=[40 if i <40 else i for i in numlist]\n",
    "print(int(sum(new_list)/len(new_list)))"
   ]
  }
 ],
 "metadata": {
  "kernelspec": {
   "display_name": "Python 3",
   "language": "python",
   "name": "python3"
  },
  "language_info": {
   "codemirror_mode": {
    "name": "ipython",
    "version": 3
   },
   "file_extension": ".py",
   "mimetype": "text/x-python",
   "name": "python",
   "nbconvert_exporter": "python",
   "pygments_lexer": "ipython3",
   "version": "3.5.4"
  }
 },
 "nbformat": 4,
 "nbformat_minor": 2
}
