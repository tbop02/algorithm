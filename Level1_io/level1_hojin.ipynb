{
 "cells": [
  {
   "cell_type": "markdown",
   "metadata": {},
   "source": [
    "### 1-2 A+B"
   ]
  },
  {
   "cell_type": "code",
   "execution_count": 3,
   "metadata": {},
   "outputs": [
    {
     "name": "stdout",
     "output_type": "stream",
     "text": [
      "1 2\n",
      "3\n"
     ]
    }
   ],
   "source": [
    "a=input()\n",
    "sp=a.split()\n",
    "print(int(sp[0])+int(sp[1]))"
   ]
  },
  {
   "cell_type": "markdown",
   "metadata": {},
   "source": [
    "### 1-3 A-B"
   ]
  },
  {
   "cell_type": "code",
   "execution_count": null,
   "metadata": {},
   "outputs": [],
   "source": [
    "a=input()\n",
    "sp=a.split()\n",
    "print(int(sp[0])-int(sp[1]))"
   ]
  },
  {
   "cell_type": "markdown",
   "metadata": {},
   "source": [
    "### 1-5 개"
   ]
  },
  {
   "cell_type": "code",
   "execution_count": 94,
   "metadata": {},
   "outputs": [
    {
     "name": "stdout",
     "output_type": "stream",
     "text": [
      "|\\_/|\n",
      "|q p|   /}\n",
      "( 0 )\"\"\"\\\n",
      "|\"^\"`    |\n",
      "||_/=\\\\__|\n"
     ]
    }
   ],
   "source": [
    "print('\\\n",
    "|\\\\_/|\\n\\\n",
    "|q p|   /}\\n\\\n",
    "( 0 )\"\"\"\\\\\\n\\\n",
    "|\"^\"`    |\\n\\\n",
    "||_/=\\\\\\\\__|\\\n",
    "')"
   ]
  },
  {
   "cell_type": "markdown",
   "metadata": {},
   "source": [
    "### 1-5 \tWe love kriii"
   ]
  },
  {
   "cell_type": "code",
   "execution_count": null,
   "metadata": {},
   "outputs": [],
   "source": [
    "print('강한친구 대한육군\\n\\\n",
    "강한친구 대한육군')"
   ]
  },
  {
   "cell_type": "markdown",
   "metadata": {},
   "source": [
    "### 1-7 그대로 출력"
   ]
  },
  {
   "cell_type": "code",
   "execution_count": null,
   "metadata": {},
   "outputs": [],
   "source": [
    "text=''\n",
    "cnt=0\n",
    "while cnt<100:    \n",
    "    try:\n",
    "        a=str(input())\n",
    "        if len(a)==0:\n",
    "            break\n",
    "        elif len(a)>100 or list(a)[0]==' ' or list(a)[-1]==' ':\n",
    "            break\n",
    "        else:\n",
    "            if cnt==0:\n",
    "                text=a\n",
    "            else:\n",
    "                text=text+'\\n'+a\n",
    "            cnt+=1\n",
    "    except EOFError:\n",
    "        break        \n",
    "print(text)"
   ]
  },
  {
   "cell_type": "markdown",
   "metadata": {},
   "source": [
    "### 1-8 그대로 출력2"
   ]
  },
  {
   "cell_type": "code",
   "execution_count": null,
   "metadata": {},
   "outputs": [],
   "source": [
    "text=''\n",
    "cnt=0\n",
    "while cnt<100:    \n",
    "    try:\n",
    "        a=str(input())\n",
    "        if cnt==0:\n",
    "            text=a\n",
    "        else:\n",
    "            text=text+'\\n'+a\n",
    "        cnt+=1\n",
    "    except EOFError:\n",
    "        break        \n",
    "print(text)"
   ]
  }
 ],
 "metadata": {
  "kernelspec": {
   "display_name": "Python 3",
   "language": "python",
   "name": "python3"
  },
  "language_info": {
   "codemirror_mode": {
    "name": "ipython",
    "version": 3
   },
   "file_extension": ".py",
   "mimetype": "text/x-python",
   "name": "python",
   "nbconvert_exporter": "python",
   "pygments_lexer": "ipython3",
   "version": "3.5.4"
  }
 },
 "nbformat": 4,
 "nbformat_minor": 2
}
