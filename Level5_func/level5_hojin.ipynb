{
 "cells": [
  {
   "cell_type": "markdown",
   "metadata": {},
   "source": [
    "### 5-1 self number"
   ]
  },
  {
   "cell_type": "code",
   "execution_count": null,
   "metadata": {},
   "outputs": [],
   "source": [
    "non_self=[]\n",
    "for i in range(1,10000):\n",
    "    sum_num=sum([int(i) for i in str(i)])+int(i)\n",
    "    non_self.append(sum_num)\n",
    "    if i not in non_self:\n",
    "        print(i)"
   ]
  },
  {
   "cell_type": "markdown",
   "metadata": {},
   "source": [
    "### 5-2 한수"
   ]
  },
  {
   "cell_type": "code",
   "execution_count": 1,
   "metadata": {},
   "outputs": [
    {
     "name": "stdout",
     "output_type": "stream",
     "text": [
      "10\n",
      "10\n"
     ]
    }
   ],
   "source": [
    "a=int(input())\n",
    "cnt=0\n",
    "for i in range(1,a+1):\n",
    "    str_num=str(i)\n",
    "    len_str=len(str_num)    \n",
    "    sum_num=sum([int(i) for i in str_num])    \n",
    "    if sum_num == (int(str_num[0])+int(str_num[-1]))*len_str/2:\n",
    "        cnt+=1\n",
    "print(cnt)"
   ]
  },
  {
   "cell_type": "markdown",
   "metadata": {},
   "source": [
    "### 5-3 별찍기"
   ]
  },
  {
   "cell_type": "code",
   "execution_count": 2,
   "metadata": {},
   "outputs": [
    {
     "name": "stdout",
     "output_type": "stream",
     "text": [
      "24\n",
      "                       *                       \n",
      "                      * *                      \n",
      "                     *****                     \n",
      "                    *     *                    \n",
      "                   * *   * *                   \n",
      "                  ***** *****                  \n",
      "                 *           *                 \n",
      "                * *         * *                \n",
      "               *****       *****               \n",
      "              *     *     *     *              \n",
      "             * *   * *   * *   * *             \n",
      "            ***** ***** ***** *****            \n",
      "           *                       *           \n",
      "          * *                     * *          \n",
      "         *****                   *****         \n",
      "        *     *                 *     *        \n",
      "       * *   * *               * *   * *       \n",
      "      ***** *****             ***** *****      \n",
      "     *           *           *           *     \n",
      "    * *         * *         * *         * *    \n",
      "   *****       *****       *****       *****   \n",
      "  *     *     *     *     *     *     *     *  \n",
      " * *   * *   * *   * *   * *   * *   * *   * * \n",
      "***** ***** ***** ***** ***** ***** ***** *****\n"
     ]
    }
   ],
   "source": [
    "import copy\n",
    "import math\n",
    "\n",
    "def dup_star(in_list):    \n",
    "    new_list=copy.copy(in_list)\n",
    "    \n",
    "    inlist_len=len(in_list)\n",
    "    for list_num,list_ele in enumerate(in_list):\n",
    "        padding=' '*(inlist_len)\n",
    "        new_list[list_num]=padding+list_ele+padding\n",
    "    \n",
    "    for list_ele in in_list:\n",
    "        new_list.append(list_ele+' '+list_ele)   \n",
    "    \n",
    "    return new_list\n",
    "\n",
    "a=int(input())\n",
    "iternum=int(math.log(a/3,2))\n",
    "star_list=['  *  ',' * * ','*****']\n",
    "\n",
    "for i in range(iternum):\n",
    "    star_list=dup_star(star_list)\n",
    "\n",
    "for i in star_list:\n",
    "    print(i)"
   ]
  }
 ],
 "metadata": {
  "kernelspec": {
   "display_name": "Python 3",
   "language": "python",
   "name": "python3"
  },
  "language_info": {
   "codemirror_mode": {
    "name": "ipython",
    "version": 3
   },
   "file_extension": ".py",
   "mimetype": "text/x-python",
   "name": "python",
   "nbconvert_exporter": "python",
   "pygments_lexer": "ipython3",
   "version": "3.5.4"
  }
 },
 "nbformat": 4,
 "nbformat_minor": 2
}
