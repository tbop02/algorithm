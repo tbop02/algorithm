{
 "cells": [
  {
   "cell_type": "markdown",
   "metadata": {},
   "source": [
    "### 3-8 요일계산"
   ]
  },
  {
   "cell_type": "code",
   "execution_count": 173,
   "metadata": {},
   "outputs": [
    {
     "name": "stdout",
     "output_type": "stream",
     "text": [
      "1 3\n",
      "WED\n"
     ]
    }
   ],
   "source": [
    "months=[31,28,31,30,31,30,31,31,30,31,30,31]\n",
    "days=['SUN', 'MON', 'TUE', 'WED', 'THU', 'FRI', 'SAT']\n",
    "a=input()\n",
    "M=int(a.split()[0])\n",
    "D=int(a.split()[1])\n",
    "\n",
    "cnt_day=0\n",
    "for i in range(M-1):\n",
    "    cnt_day+=months[i]\n",
    "cnt_day+=D\n",
    "\n",
    "print(days[cnt_day % 7])"
   ]
  },
  {
   "cell_type": "markdown",
   "metadata": {},
   "source": [
    "### 3-9 별출력"
   ]
  },
  {
   "cell_type": "code",
   "execution_count": 152,
   "metadata": {},
   "outputs": [
    {
     "name": "stdout",
     "output_type": "stream",
     "text": [
      "8\n",
      "********\n",
      " *******\n",
      "  ******\n",
      "   *****\n",
      "    ****\n",
      "     ***\n",
      "      **\n",
      "       *\n"
     ]
    }
   ],
   "source": [
    "N_star=int(input())\n",
    "for i in range(N_star,0,-1):\n",
    "    print(' '*(N_star-i),end='')\n",
    "    print('*'*i)"
   ]
  },
  {
   "cell_type": "markdown",
   "metadata": {},
   "source": [
    "### 3-10 숫자의 합"
   ]
  },
  {
   "cell_type": "code",
   "execution_count": 119,
   "metadata": {},
   "outputs": [
    {
     "name": "stdout",
     "output_type": "stream",
     "text": [
      "5\n",
      "123165\n",
      "18\n"
     ]
    }
   ],
   "source": [
    "Tnum=int(input())\n",
    "myinput=list(input())\n",
    "input_num=[int(i) for i in list(myinput)]\n",
    "sum=0\n",
    "for i in input_num:\n",
    "    sum+=i\n",
    "print(sum)"
   ]
  },
  {
   "cell_type": "markdown",
   "metadata": {},
   "source": [
    "### 3-11 열개씩 끊어 출력하기"
   ]
  },
  {
   "cell_type": "code",
   "execution_count": 106,
   "metadata": {},
   "outputs": [
    {
     "name": "stdout",
     "output_type": "stream",
     "text": [
      "fwefew\n",
      "fwefew\n",
      "\n",
      "\n",
      "\n",
      "\n",
      "\n",
      "\n",
      "\n",
      "\n",
      "\n"
     ]
    }
   ],
   "source": [
    "a=input()\n",
    "for i in range(10):\n",
    "    print(a[i*10:(i+1)*10])"
   ]
  },
  {
   "cell_type": "markdown",
   "metadata": {},
   "source": [
    "## 3-12 빠른출력 (jupyter 에서는 안됨)"
   ]
  },
  {
   "cell_type": "code",
   "execution_count": 138,
   "metadata": {},
   "outputs": [],
   "source": [
    "import sys\n",
    "\n",
    "Tnum=int(input())\n",
    "for i in range(Tnum):\n",
    "    test=sys.stdin.readline().rstrip()\n",
    "    print(int(test.split()[0])+int(test.split()[1]))"
   ]
  }
 ],
 "metadata": {
  "kernelspec": {
   "display_name": "Python 3",
   "language": "python",
   "name": "python3"
  },
  "language_info": {
   "codemirror_mode": {
    "name": "ipython",
    "version": 3
   },
   "file_extension": ".py",
   "mimetype": "text/x-python",
   "name": "python",
   "nbconvert_exporter": "python",
   "pygments_lexer": "ipython3",
   "version": "3.5.4"
  }
 },
 "nbformat": 4,
 "nbformat_minor": 2
}
