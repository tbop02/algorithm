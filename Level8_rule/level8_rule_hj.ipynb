{
 "cells": [
  {
   "cell_type": "markdown",
   "metadata": {},
   "source": [
    "Fly me to the Alpha Centauri"
   ]
  },
  {
   "cell_type": "code",
   "execution_count": 57,
   "metadata": {},
   "outputs": [
    {
     "name": "stdout",
     "output_type": "stream",
     "text": [
      "3\n",
      "0 3\n",
      "1 5\n",
      "45 50\n",
      "3\n",
      "3\n",
      "4\n"
     ]
    }
   ],
   "source": [
    "tnum=int(input())\n",
    "input_list=[]\n",
    "for i in range(tnum):\n",
    "    input_list.append(list(map(int,input().split())))\n",
    "for i in input_list:\n",
    "    diff=i[1]-i[0]    \n",
    "    n=1\n",
    "    while True:\n",
    "        if n**2<= diff < (n+1)**2:\n",
    "            break\n",
    "        n+=1\n",
    "    if diff==n**2:\n",
    "        print(2*n-1)\n",
    "    elif diff - n**2 <= ((n+1)**2 - n**2 -1 )/2:\n",
    "        print(2*n)\n",
    "    else:\n",
    "        print(2*n+1)"
   ]
  },
  {
   "cell_type": "markdown",
   "metadata": {},
   "source": [
    "2292 벌집"
   ]
  },
  {
   "cell_type": "code",
   "execution_count": 26,
   "metadata": {},
   "outputs": [
    {
     "name": "stdout",
     "output_type": "stream",
     "text": [
      "13\n",
      "3\n"
     ]
    }
   ],
   "source": [
    "bee=int(input())\n",
    "cnt=1\n",
    "while True:\n",
    "    if bee <= (3*cnt**2-3*cnt+1):\n",
    "        print(cnt)\n",
    "        break\n",
    "    cnt+=1"
   ]
  },
  {
   "cell_type": "markdown",
   "metadata": {},
   "source": [
    "ACM 호텔"
   ]
  },
  {
   "cell_type": "code",
   "execution_count": 106,
   "metadata": {},
   "outputs": [
    {
     "name": "stdout",
     "output_type": "stream",
     "text": [
      "1\n",
      "1 1 1\n",
      "101\n"
     ]
    }
   ],
   "source": [
    "tnum=int(input())\n",
    "for i in range(tnum):\n",
    "    myinput=list(map(int,input().split()))\n",
    "    floor=myinput[0]\n",
    "    rooms=myinput[1]\n",
    "    customer=myinput[2]\n",
    "    \n",
    "    myfloor= str (customer%floor if customer%floor!=0 else floor)\n",
    "    myho = str('{:02.0f}'.format(customer//floor+1 if customer%floor!=0 else customer//floor))\n",
    "    print(myfloor+myho)"
   ]
  },
  {
   "cell_type": "markdown",
   "metadata": {},
   "source": [
    "부녀회장이 될테야"
   ]
  },
  {
   "cell_type": "code",
   "execution_count": 81,
   "metadata": {},
   "outputs": [
    {
     "name": "stdout",
     "output_type": "stream",
     "text": [
      "2\n",
      "1\n",
      "3\n",
      "6\n",
      "2\n",
      "3\n",
      "10\n"
     ]
    }
   ],
   "source": [
    "def du(inlist,target,start=0):    \n",
    "    if target==start:\n",
    "        return inlist\n",
    "    else:        \n",
    "        next_floor=[]\n",
    "        for i in range(len(inlist)):\n",
    "            cnt=0\n",
    "            for j in range(i+1):            \n",
    "                cnt+=inlist[j]\n",
    "            next_floor.append(cnt)\n",
    "        return du(next_floor,target,start+1)\n",
    "\n",
    "floor0=[i for i in range(1,15)]\n",
    "tnum=int(input())\n",
    "\n",
    "for i in range(tnum):\n",
    "    floor=int(input())\n",
    "    ho=int(input())\n",
    "    print(du(floor0,floor)[ho-1])\n"
   ]
  },
  {
   "cell_type": "markdown",
   "metadata": {},
   "source": [
    "6064 카잉"
   ]
  },
  {
   "cell_type": "code",
   "execution_count": 124,
   "metadata": {},
   "outputs": [
    {
     "name": "stdout",
     "output_type": "stream",
     "text": [
      "3\n",
      "10 12 3 9\n",
      "33\n",
      "10 12 7 2\n",
      "-1\n",
      "13 11 5 6\n",
      "83\n"
     ]
    }
   ],
   "source": [
    "import math\n",
    "numtot=int(input())\n",
    "\n",
    "for i in range(numtot):\n",
    "    qlist=list(map(int,input().split()))\n",
    "    M, N, x_, y_=qlist[0], qlist[1], qlist[2], qlist[3]\n",
    "    \n",
    "    if M<=N:\n",
    "        (M ,N) = (N, M)\n",
    "        (x_, y_) = (y_, x_)    \n",
    "\n",
    "    M_i=N/math.gcd(M,N)\n",
    "    start_index=x_\n",
    "\n",
    "    for i in range(int(M_i)):\n",
    "        next_try=(start_index+i*M) % N\n",
    "        next_try=(next_try if next_try !=0 else N)\n",
    "        if y_ == next_try:\n",
    "            print(start_index+i*M)\n",
    "            break\n",
    "    else:\n",
    "        print(-1)"
   ]
  },
  {
   "cell_type": "markdown",
   "metadata": {},
   "source": [
    "카잉 solution 2"
   ]
  },
  {
   "cell_type": "code",
   "execution_count": 28,
   "metadata": {},
   "outputs": [
    {
     "name": "stdout",
     "output_type": "stream",
     "text": [
      "1\n",
      "10 10 10 10\n",
      "10\n"
     ]
    }
   ],
   "source": [
    "def mygcd(a,b):\n",
    "    while True:\n",
    "        res=a%b\n",
    "        if a%b==0:\n",
    "            return b\n",
    "            break\n",
    "        else:\n",
    "            a=b\n",
    "            b=res\n",
    "\n",
    "numtot=int(input())\n",
    "qlist=[]\n",
    "for i in range(numtot):\n",
    "    qlist.append(list(map(int,input().split())))\n",
    "\n",
    "for i in qlist:\n",
    "    M, N, x_, y_=i[0], i[1], i[2], i[3]\n",
    "\n",
    "    M_i=N/mygcd(M,N)\n",
    "    N_i=M/mygcd(M,N)\n",
    "    \n",
    "    diff=x_-y_\n",
    "    cnt=-1\n",
    "    \n",
    "    if x_ > y_:\n",
    "        ## M part num when N==1\n",
    "        for i in range(int(N_i)+1):\n",
    "            r_diff=(i*N+1)%M - 1\n",
    "            if diff==r_diff:            \n",
    "                cnt=int(i*N+1  + y_-1)\n",
    "                break\n",
    "    elif x_ < y_:        \n",
    "        ## N part num when M==1\n",
    "        for i in range(int(M_i)+1):                        \n",
    "            r_diff=1 - (i*M+1)%N\n",
    "            if diff==r_diff:\n",
    "                cnt=int(i*M+1 + x_-1)\n",
    "                break\n",
    "    else:\n",
    "        cnt=x_\n",
    "        \n",
    "    print(cnt)"
   ]
  }
 ],
 "metadata": {
  "kernelspec": {
   "display_name": "Python 3",
   "language": "python",
   "name": "python3"
  },
  "language_info": {
   "codemirror_mode": {
    "name": "ipython",
    "version": 3
   },
   "file_extension": ".py",
   "mimetype": "text/x-python",
   "name": "python",
   "nbconvert_exporter": "python",
   "pygments_lexer": "ipython3",
   "version": "3.5.4"
  }
 },
 "nbformat": 4,
 "nbformat_minor": 2
}
