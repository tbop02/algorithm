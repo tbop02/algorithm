{
 "cells": [
  {
   "cell_type": "markdown",
   "metadata": {},
   "source": [
    "### copy 모듈, 도대체 왜 쓸까?"
   ]
  },
  {
   "cell_type": "code",
   "execution_count": null,
   "metadata": {
    "collapsed": true
   },
   "outputs": [],
   "source": [
    "# copy를 쓰면 같은 값을 가져도 다른 메모리(즉, id)를 가진다."
   ]
  },
  {
   "cell_type": "code",
   "execution_count": null,
   "metadata": {
    "collapsed": true
   },
   "outputs": [],
   "source": [
    "'''\n",
    "스크립트 언어에서 레퍼런스(포인터, 참조) 개념을 이용한다는 것은 굉장히 슬픈 일이다. \n",
    "괜히 생각을 복잡하게 만들어야 하니까.\n",
    "이 모든 것이 성능 때문에 쓰는 개념이라는 것을 이해해야 하기 때문에 더욱 슬퍼진다.\n",
    "\n",
    "댓글: 성능뿐만 아니라 구현의 이슈 때문이라도 레퍼런스(포인터) 개념은 꼭 필요합니다\n",
    "'''"
   ]
  },
  {
   "cell_type": "markdown",
   "metadata": {},
   "source": [
    "### 단순복제"
   ]
  },
  {
   "cell_type": "code",
   "execution_count": 4,
   "metadata": {
    "scrolled": true
   },
   "outputs": [
    {
     "name": "stdout",
     "output_type": "stream",
     "text": [
      "[1, 2, 3, 4]\n",
      "[1, 2, 100, 4]\n",
      "[1, 2, 100, 4]\n",
      "79096648\n",
      "79096648\n",
      "\n",
      "\n",
      "10\n",
      "abc\n",
      "10\n",
      "1543728480\n",
      "40319832\n"
     ]
    }
   ],
   "source": [
    "a = [1,2,3,4]\n",
    "b = a\n",
    "print(b)\n",
    "b[2] = 100\n",
    "print(b)\n",
    "print(a)\n",
    "print(id(a))\n",
    "print(id(b))\n",
    "\n",
    "print(\"\\n\")\n",
    "\n",
    "a = 10\n",
    "b = a\n",
    "print(b)\n",
    "b = \"abc\"\n",
    "print(b) # abc\n",
    "print(a) # 10\n",
    "print(id(a))\n",
    "print(id(b))"
   ]
  },
  {
   "cell_type": "markdown",
   "metadata": {},
   "source": [
    "### 얕은복사 (shallow copy)"
   ]
  },
  {
   "cell_type": "code",
   "execution_count": 16,
   "metadata": {},
   "outputs": [
    {
     "name": "stdout",
     "output_type": "stream",
     "text": [
      "[1, [1, 2, 3]]\n",
      "[100, [1, 2, 3]]\n",
      "[1, [1, 2, 3]]\n",
      "[1, [1, 2, 3, 4]]\n",
      "[1, [1, 2, 3, 4]]\n"
     ]
    }
   ],
   "source": [
    "import copy\n",
    "\n",
    "a = [1, [1, 2, 3]]\n",
    "b = copy.copy(a)    # shallow copy 발생     \n",
    "print(b)    # [1, [1, 2, 3]] 출력\n",
    "b[0] = 100  \n",
    "print(b)    # [100, [1, 2, 3]] 출력, \n",
    "print(a)    \n",
    "# [1, [1, 2, 3]] 출력, shallow copy 가 발생해 복사된 리스트는 별도의 객체이므로\n",
    "# item을 수정하면 복사본만 수정된다. (immutable 객체의 경우)\n",
    "\n",
    "c = copy.copy(a)\n",
    "c[1].append(4)    # 리스트의 두번째 item(내부리스트)에 4를 추가\n",
    "print(c)     # [1, [1, 2, 3, 4]] 출력\n",
    "print(a)     \n",
    "# [1, [1, 2, 3, 4]] 출력, a가 c와 똑같이 수정된 이유는 리스트의 item 내부의 객체는 동일한 객체이므로 \n",
    "# mutable한 리스트를 수정할때는 둘다 값이 변경됨"
   ]
  },
  {
   "cell_type": "markdown",
   "metadata": {},
   "source": [
    "### 깊은복사 (deep copy)"
   ]
  },
  {
   "cell_type": "code",
   "execution_count": 17,
   "metadata": {},
   "outputs": [
    {
     "name": "stdout",
     "output_type": "stream",
     "text": [
      "[1, [1, 2, 3]]\n",
      "[100, [1, 2, 3, 4]]\n",
      "[1, [1, 2, 3]]\n"
     ]
    }
   ],
   "source": [
    "import copy\n",
    "\n",
    "a = [1, [1, 2, 3]]\n",
    "b = copy.deepcopy(a)    # deep copy 실행     \n",
    "print(b)               # [1, [1, 2, 3]] 출력\n",
    "b[0] = 100\n",
    "b[1].append(4)  \n",
    "print(b)               # [100, [1, 2, 3, 4]] 출력\n",
    "print(a)              # [1, [1, 2, 3]] 출력"
   ]
  },
  {
   "cell_type": "code",
   "execution_count": 44,
   "metadata": {},
   "outputs": [
    {
     "name": "stdout",
     "output_type": "stream",
     "text": [
      "92398216\n",
      "88962312\n",
      "\n",
      "\n",
      "True\n",
      "[1, 2, 3]\n",
      "[5, 2, 3]\n"
     ]
    }
   ],
   "source": [
    "a = [1,2,3]\n",
    "b = a[:]\n",
    "print(id(a))\n",
    "print(id(b))\n",
    "\n",
    "print(\"\\n\")\n",
    "\n",
    "print(a==b)\n",
    "b[0] = 5\n",
    "print(a)\n",
    "print(b)"
   ]
  },
  {
   "cell_type": "markdown",
   "metadata": {},
   "source": [
    "### 부가적인 설명을 위해 실행해본 코드 "
   ]
  },
  {
   "cell_type": "code",
   "execution_count": 63,
   "metadata": {},
   "outputs": [
    {
     "name": "stdout",
     "output_type": "stream",
     "text": [
      "82192584\n",
      "88755016\n",
      "[[1, 5], [3, 4]]\n",
      "[[1, 2], [3, 4]]\n"
     ]
    },
    {
     "data": {
      "text/plain": [
       "'\\ndeepcopy를 쓰면 리스트 안에 리스트까지 완전히 다른 객체로 가지기 때문에\\n그 안의 구성요소를 바꿔도 바뀌지 않는다\\n'"
      ]
     },
     "execution_count": 63,
     "metadata": {},
     "output_type": "execute_result"
    }
   ],
   "source": [
    "import copy\n",
    "\n",
    "a = [[1,2], [3,4]]\n",
    "b = copy.deepcopy(a)\n",
    "print(id(a))\n",
    "print(id(b))\n",
    "a[0][1]=5\n",
    "print(a)\n",
    "print(b)\n",
    "\n",
    "'''\n",
    "deepcopy를 쓰면 리스트 안에 리스트까지 완전히 다른 객체로 가지기 때문에\n",
    "그 안의 구성요소를 바꿔도 바뀌지 않는다\n",
    "'''"
   ]
  },
  {
   "cell_type": "code",
   "execution_count": 55,
   "metadata": {},
   "outputs": [
    {
     "name": "stdout",
     "output_type": "stream",
     "text": [
      "92483400\n",
      "92351816\n",
      "[1, 2, 3]\n",
      "[0, 2, 3]\n"
     ]
    }
   ],
   "source": [
    "a = [1,2,3]\n",
    "b = a[:]\n",
    "print(id(a))\n",
    "print(id(b))\n",
    "\n",
    "b[0] = 0\n",
    "print(a)\n",
    "print(b)"
   ]
  },
  {
   "cell_type": "code",
   "execution_count": null,
   "metadata": {
    "collapsed": true
   },
   "outputs": [],
   "source": []
  },
  {
   "cell_type": "code",
   "execution_count": null,
   "metadata": {
    "collapsed": true
   },
   "outputs": [],
   "source": []
  },
  {
   "cell_type": "code",
   "execution_count": null,
   "metadata": {
    "collapsed": true
   },
   "outputs": [],
   "source": []
  },
  {
   "cell_type": "code",
   "execution_count": null,
   "metadata": {
    "collapsed": true
   },
   "outputs": [],
   "source": []
  },
  {
   "cell_type": "code",
   "execution_count": null,
   "metadata": {
    "collapsed": true
   },
   "outputs": [],
   "source": []
  },
  {
   "cell_type": "code",
   "execution_count": null,
   "metadata": {
    "collapsed": true
   },
   "outputs": [],
   "source": []
  }
 ],
 "metadata": {
  "kernelspec": {
   "display_name": "Python 3",
   "language": "python",
   "name": "python3"
  },
  "language_info": {
   "codemirror_mode": {
    "name": "ipython",
    "version": 3
   },
   "file_extension": ".py",
   "mimetype": "text/x-python",
   "name": "python",
   "nbconvert_exporter": "python",
   "pygments_lexer": "ipython3",
   "version": "3.6.3"
  }
 },
 "nbformat": 4,
 "nbformat_minor": 2
}
