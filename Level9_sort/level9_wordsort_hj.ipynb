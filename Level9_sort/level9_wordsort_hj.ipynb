{
 "cells": [
  {
   "cell_type": "markdown",
   "metadata": {},
   "source": [
    "단어 정렬"
   ]
  },
  {
   "cell_type": "code",
   "execution_count": 23,
   "metadata": {},
   "outputs": [
    {
     "name": "stdout",
     "output_type": "stream",
     "text": [
      "5\n",
      "i\n",
      "i\n",
      "ia\n",
      "ic\n",
      "ib\n",
      "i\n",
      "ia\n",
      "ib\n",
      "ic\n"
     ]
    }
   ],
   "source": [
    "tnum=int(input())\n",
    "wordlist=list({input() for i in range(tnum)})\n",
    "cha_sort=sorted(wordlist)\n",
    "len_sort=sorted(cha_sort, key=lambda x: len(x),reverse=False)\n",
    "for i in len_sort:\n",
    "    print(i)\n",
    "    "
   ]
  }
 ],
 "metadata": {
  "kernelspec": {
   "display_name": "Python 3",
   "language": "python",
   "name": "python3"
  },
  "language_info": {
   "codemirror_mode": {
    "name": "ipython",
    "version": 3
   },
   "file_extension": ".py",
   "mimetype": "text/x-python",
   "name": "python",
   "nbconvert_exporter": "python",
   "pygments_lexer": "ipython3",
   "version": "3.5.4"
  }
 },
 "nbformat": 4,
 "nbformat_minor": 2
}
