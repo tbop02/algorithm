{
 "cells": [
  {
   "cell_type": "code",
   "execution_count": 5,
   "metadata": {},
   "outputs": [
    {
     "name": "stdout",
     "output_type": "stream",
     "text": [
      "50\n",
      "F\n"
     ]
    }
   ],
   "source": [
    "n=int(input())\n",
    "if 90 <= n <= 100: \n",
    "    print('A')\n",
    "elif 80 <= n <= 89:\n",
    "    print('B')\n",
    "elif 70 <= n <= 79:\n",
    "    print('C')\n",
    "elif 60 <= n <= 69:\n",
    "    print('D')\n",
    "else:\n",
    "    print('F')"
   ]
  },
  {
   "cell_type": "code",
   "execution_count": 52,
   "metadata": {},
   "outputs": [
    {
     "name": "stdout",
     "output_type": "stream",
     "text": [
      "20 30 10\n",
      "20\n"
     ]
    }
   ],
   "source": [
    "n = map(int,input().split())\n",
    "print(sorted(n, reverse = True)[1])"
   ]
  },
  {
   "cell_type": "code",
   "execution_count": 54,
   "metadata": {},
   "outputs": [
    {
     "name": "stdout",
     "output_type": "stream",
     "text": [
      "10 5\n",
      "1 10 4 9 2 3 8 5 7 6\n",
      "1 4 2 3 "
     ]
    }
   ],
   "source": [
    "a,b = map(int,input().split())\n",
    "c= list(map(int, input().split()))\n",
    "for i in range(a):\n",
    "    if b > c[i]:\n",
    "        print(c[i], end=' ')"
   ]
  },
  {
   "cell_type": "code",
   "execution_count": 55,
   "metadata": {},
   "outputs": [
    {
     "name": "stdout",
     "output_type": "stream",
     "text": [
      "3\n",
      "40 80 60\n",
      "75.00\n"
     ]
    }
   ],
   "source": [
    "sum=0\n",
    "a=int(input())\n",
    "b=list(map(int,input().split()))\n",
    "c=max(b)\n",
    "\n",
    "for i in range(a):\n",
    "    b[i]=b[i]/c*100\n",
    "    sum += b[i]\n",
    "print('%.2f'% (sum/a))"
   ]
  },
  {
   "cell_type": "code",
   "execution_count": 56,
   "metadata": {},
   "outputs": [
    {
     "name": "stdout",
     "output_type": "stream",
     "text": [
      "26\n",
      "4\n"
     ]
    }
   ],
   "source": [
    "a = int(input())\n",
    "b = [0]*4\n",
    "b[0] = a//10\n",
    "b[1] = a%10\n",
    "cnt = 0\n",
    "while True:\n",
    "    cnt += 1\n",
    "    b[2] = (b[0]+b[1])//10\n",
    "    b[3] = (b[0]+b[1])%10\n",
    "    if a//10 == b[1] and a%10 == b[3]:\n",
    "        break\n",
    "    b[0] = b[1]\n",
    "    b[1] = b[3]\n",
    "print(cnt)"
   ]
  }
 ],
 "metadata": {
  "kernelspec": {
   "display_name": "Python 3",
   "language": "python",
   "name": "python3"
  },
  "language_info": {
   "codemirror_mode": {
    "name": "ipython",
    "version": 3
   },
   "file_extension": ".py",
   "mimetype": "text/x-python",
   "name": "python",
   "nbconvert_exporter": "python",
   "pygments_lexer": "ipython3",
   "version": "3.6.5"
  }
 },
 "nbformat": 4,
 "nbformat_minor": 2
}
