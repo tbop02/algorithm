{
 "cells": [
  {
   "cell_type": "markdown",
   "metadata": {},
   "source": [
    "### 9497번 시험성적"
   ]
  },
  {
   "cell_type": "code",
   "execution_count": 1,
   "metadata": {},
   "outputs": [
    {
     "name": "stdout",
     "output_type": "stream",
     "text": [
      "100\n",
      "A\n"
     ]
    }
   ],
   "source": [
    "score = int(input())\n",
    "if 90 <= score:\n",
    "       print(\"A\")\n",
    "elif 80 <= score:\n",
    "    print(\"B\")\n",
    "elif 70 <= score:\n",
    "    print(\"C\")\n",
    "elif 60 <= score:\n",
    "    print(\"D\")\n",
    "else:\n",
    "    print(\"F\")"
   ]
  },
  {
   "cell_type": "markdown",
   "metadata": {},
   "source": [
    "### 10817번 세 수"
   ]
  },
  {
   "cell_type": "code",
   "execution_count": 2,
   "metadata": {},
   "outputs": [
    {
     "name": "stdout",
     "output_type": "stream",
     "text": [
      "20 30 10\n",
      "20\n"
     ]
    }
   ],
   "source": [
    "A, B, C = map(int, input().split())\n",
    "\n",
    "if A >= B >= C :\n",
    "    print(B)\n",
    "elif A >= C >= B :\n",
    "    print(C)\n",
    "elif B >= A >= C :\n",
    "    print(A)\n",
    "elif B >= C >= A :\n",
    "    print(C)\n",
    "elif C >= A >= B :\n",
    "    print(A)\n",
    "else :\n",
    "    print(B)"
   ]
  },
  {
   "cell_type": "markdown",
   "metadata": {},
   "source": [
    "### 10871번. X보다 작은 수"
   ]
  },
  {
   "cell_type": "code",
   "execution_count": 3,
   "metadata": {},
   "outputs": [
    {
     "name": "stdout",
     "output_type": "stream",
     "text": [
      "10 5\n",
      "1 10 4 9 2 3 8 5 7 6\n",
      "1 4 2 3 "
     ]
    }
   ],
   "source": [
    "N, X = map(int, input().split())\n",
    "suyeol = list( map(int, input().split()))\n",
    "\n",
    "for i in range(N):\n",
    "    if X > suyeol[i] :\n",
    "        print(suyeol[i], end = ' ')"
   ]
  },
  {
   "cell_type": "markdown",
   "metadata": {},
   "source": [
    "### 1546번"
   ]
  },
  {
   "cell_type": "code",
   "execution_count": 4,
   "metadata": {},
   "outputs": [
    {
     "name": "stdout",
     "output_type": "stream",
     "text": [
      "3\n",
      "40 80 60\n",
      "75.00\n"
     ]
    }
   ],
   "source": [
    "subject_cnt = int(input())\n",
    "grade = list(map(int, input().split()))\n",
    "max_grade = max(grade)\n",
    "\n",
    "for i in range(subject_cnt) :\n",
    "    grade[i] = grade[i]/max_grade * 100\n",
    "r = sum(grade)/subject_cnt\n",
    "print(\"%.2f\" %r)"
   ]
  },
  {
   "cell_type": "markdown",
   "metadata": {},
   "source": [
    "### 4344번 평균은 넘겠지~"
   ]
  },
  {
   "cell_type": "code",
   "execution_count": 5,
   "metadata": {},
   "outputs": [
    {
     "name": "stdout",
     "output_type": "stream",
     "text": [
      "5\n",
      "5 50 50 70 80 100\n",
      "7 100 95 90 80 70 60 50\n",
      "3 70 90 80\n",
      "3 70 90 81\n",
      "9 100 99 98 97 96 95 94 93 91\n",
      "40.000%\n",
      "57.143%\n",
      "33.333%\n",
      "66.667%\n",
      "55.556%\n"
     ]
    }
   ],
   "source": [
    "case_cnt = int(input())\n",
    "a = [[]]*case_cnt\n",
    "for i in range(case_cnt) :\n",
    "    a[i] = list(map(int, input().split()))\n",
    "\n",
    "i = 0\n",
    "for i in range(case_cnt):\n",
    "    avg = sum(a[i][1:])/a[i][0]\n",
    "    cnt = 0\n",
    "    for j in range(1, len(a[i])):\n",
    "        if a[i][j] > avg :\n",
    "            cnt += 1\n",
    "    print(\"%.3f%%\" %(cnt/a[i][0]*100))"
   ]
  },
  {
   "cell_type": "markdown",
   "metadata": {},
   "source": [
    "### 1110번 더하기 사이클"
   ]
  },
  {
   "cell_type": "code",
   "execution_count": 6,
   "metadata": {},
   "outputs": [
    {
     "name": "stdout",
     "output_type": "stream",
     "text": [
      "26\n",
      "4\n"
     ]
    }
   ],
   "source": [
    "N = input() # 일단 N은 숫자형 N\n",
    "\n",
    "if 0 < int(N) < 10 :\n",
    "    N = \"0\" + N    # N : 문자형\n",
    "\n",
    "result = N    # result = 26\n",
    "cnt = 0\n",
    "new_num = 0\n",
    "\n",
    "while True :\n",
    "    cnt += 1\n",
    "    new_num = int(result[0]) + int(result[-1])    # new_num = 8, result = 26\n",
    "    result = result[-1] + str(new_num)[-1]            # new_num = 8, result = 68\n",
    "    if str(result) == str(N) :\n",
    "        break\n",
    "\n",
    "print(cnt)"
   ]
  }
 ],
 "metadata": {
  "kernelspec": {
   "display_name": "Python 3",
   "language": "python",
   "name": "python3"
  },
  "language_info": {
   "codemirror_mode": {
    "name": "ipython",
    "version": 3
   },
   "file_extension": ".py",
   "mimetype": "text/x-python",
   "name": "python",
   "nbconvert_exporter": "python",
   "pygments_lexer": "ipython3",
   "version": "3.6.5"
  }
 },
 "nbformat": 4,
 "nbformat_minor": 2
}
