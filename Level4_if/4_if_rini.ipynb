{
 "cells": [
  {
   "cell_type": "markdown",
   "metadata": {},
   "source": [
    "시험성적"
   ]
  },
  {
   "cell_type": "code",
   "execution_count": null,
   "metadata": {
    "scrolled": true
   },
   "outputs": [],
   "source": [
    "score=int(input())\n",
    "\n",
    "if score >= 90 :\n",
    "    print(\"A\")\n",
    "elif score >= 80 :\n",
    "    print(\"B\")\n",
    "elif score >= 70:\n",
    "    print(\"C\")\n",
    "elif score >= 60 :\n",
    "    print(\"D\")\n",
    "else:\n",
    "    print(\"F\")\n",
    "    "
   ]
  },
  {
   "cell_type": "markdown",
   "metadata": {},
   "source": [
    "세 수"
   ]
  },
  {
   "cell_type": "code",
   "execution_count": null,
   "metadata": {
    "scrolled": true
   },
   "outputs": [],
   "source": [
    "a,b,c =map(int,input().split())\n",
    "\n",
    "if a <= b :\n",
    "    if b <= c:\n",
    "        print(b)\n",
    "    elif c < b :\n",
    "        if a <= c :\n",
    "            print(c)\n",
    "        elif c < a :\n",
    "            print(a)\n",
    "elif b <= a:\n",
    "    if c < a :\n",
    "        if c <= b:\n",
    "            print(b)\n",
    "        elif b < c:\n",
    "            print(c)\n",
    "    elif a <= c :\n",
    "        print(a)\n",
    "elif a < c:\n",
    "    if a <= b :\n",
    "        print(b)\n",
    "    elif b < a :\n",
    "        print(a)\n",
    "\n"
   ]
  },
  {
   "cell_type": "markdown",
   "metadata": {},
   "source": [
    "X보다 작은 수"
   ]
  },
  {
   "cell_type": "code",
   "execution_count": null,
   "metadata": {
    "scrolled": true
   },
   "outputs": [],
   "source": [
    "cnt,x = map(int,input().split())\n",
    "a= map(int,input().split())\n",
    "\n",
    "for i in a:\n",
    "    if i < x :\n",
    "        print(i,sep= ' ',end=' ')\n"
   ]
  },
  {
   "cell_type": "markdown",
   "metadata": {},
   "source": [
    "평균"
   ]
  },
  {
   "cell_type": "code",
   "execution_count": null,
   "metadata": {
    "scrolled": true
   },
   "outputs": [],
   "source": [
    "cnt = int(input())\n",
    "a= (input().split())\n",
    "a = [int(i) for i in a] #a 리스트 안에 있는 성분을 int형으로 바꿔주는 문장\n",
    "sumscore = 0\n",
    "maxscore = max(a)\n",
    "\n",
    "for i in a :\n",
    "    sumscore =sumscore+((i/ maxscore) * 100)    \n",
    "print(sumscore/cnt)"
   ]
  },
  {
   "cell_type": "markdown",
   "metadata": {},
   "source": [
    "평균은 넘겠지"
   ]
  },
  {
   "cell_type": "code",
   "execution_count": null,
   "metadata": {
    "scrolled": false
   },
   "outputs": [],
   "source": [
    "testcase = int(input())\n",
    "x = [None]*testcase\n",
    "\n",
    "for i in range(testcase):\n",
    "    try:\n",
    "        a = input().split()\n",
    "        v = [int(i) for i in a ]\n",
    "        sumscore = 0\n",
    "        z=0\n",
    "        for j in v[1:] :\n",
    "            sumscore = sumscore + j \n",
    "        avgscore = sumscore/v[0]        \n",
    "        for k in range(1,len(v)):\n",
    "            if v[k] > avgscore:\n",
    "                z+=1            \n",
    "        x[i] = (z /v[0]) * 100\n",
    "    except EOFError:\n",
    "        break\n",
    "        \n",
    "for i in x:\n",
    "    print(\"{0:0.3f}\".format(round(i,3)),\"%\",sep='')\n",
    "#    print('%0.3f'%round(i,3),\"%\",sep='')"
   ]
  },
  {
   "cell_type": "markdown",
   "metadata": {},
   "source": [
    "더하기 사이클"
   ]
  },
  {
   "cell_type": "code",
   "execution_count": 5,
   "metadata": {
    "scrolled": true
   },
   "outputs": [
    {
     "name": "stdout",
     "output_type": "stream",
     "text": [
      "66\n",
      "20\n"
     ]
    }
   ],
   "source": [
    "num = int(input())  #26\n",
    "cnt =1\n",
    "new=num\n",
    "while True :\n",
    "    if new < 10:\n",
    "        sip = 0\n",
    "    else :\n",
    "        sip = new//10  #2 6 8 4\n",
    "    ill = new%10  #6 8 4 2\n",
    "    sumnum = sip+ill #8 14 12 6\n",
    "    new = ill*10 + sumnum%10 #68 84 42 26\n",
    "    if new == num : #26=26\n",
    "        break\n",
    "    else :\n",
    "        cnt +=1 #2 3 4\n",
    "    \n",
    "print(cnt)"
   ]
  },
  {
   "cell_type": "code",
   "execution_count": null,
   "metadata": {},
   "outputs": [],
   "source": []
  }
 ],
 "metadata": {
  "kernelspec": {
   "display_name": "Python 3",
   "language": "python",
   "name": "python3"
  },
  "language_info": {
   "codemirror_mode": {
    "name": "ipython",
    "version": 3
   },
   "file_extension": ".py",
   "mimetype": "text/x-python",
   "name": "python",
   "nbconvert_exporter": "python",
   "pygments_lexer": "ipython3",
   "version": "3.6.5"
  }
 },
 "nbformat": 4,
 "nbformat_minor": 2
}
