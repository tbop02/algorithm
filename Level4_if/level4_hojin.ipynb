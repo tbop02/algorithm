{
 "cells": [
  {
   "cell_type": "markdown",
   "metadata": {},
   "source": [
    "1 시험성적"
   ]
  },
  {
   "cell_type": "code",
   "execution_count": null,
   "metadata": {},
   "outputs": [],
   "source": [
    "score=int(input())\n",
    "\n",
    "if score >= 90 :\n",
    "    print(\"A\")\n",
    "elif score >= 80 :\n",
    "    print(\"B\")\n",
    "elif score >= 70:\n",
    "    print(\"C\")\n",
    "elif score >= 60 :\n",
    "    print(\"D\")\n",
    "else:\n",
    "    print(\"F\")\n",
    "    \n",
    "#w hyerin"
   ]
  },
  {
   "cell_type": "markdown",
   "metadata": {},
   "source": [
    "2 세 수"
   ]
  },
  {
   "cell_type": "code",
   "execution_count": 24,
   "metadata": {},
   "outputs": [
    {
     "name": "stdout",
     "output_type": "stream",
     "text": [
      "30 30 10\n",
      "30\n"
     ]
    }
   ],
   "source": [
    "myinput=list(map(int,input().split()))\n",
    "myinput.sort()\n",
    "print(myinput[1])\n",
    "\n",
    "#w hyerin"
   ]
  },
  {
   "cell_type": "markdown",
   "metadata": {},
   "source": [
    "3 X보다 작은 수"
   ]
  },
  {
   "cell_type": "code",
   "execution_count": 36,
   "metadata": {},
   "outputs": [
    {
     "name": "stdout",
     "output_type": "stream",
     "text": [
      "10 5\n",
      "1 10 4 9 2 3 8 5 7 6\n",
      "1 4 2 3\n"
     ]
    }
   ],
   "source": [
    "cnt,x = map(int,input().split())\n",
    "a= map(int,input().split())\n",
    "print(\" \".join(str(i) for i in a if i<x))\n",
    "\n",
    "#w hyerin"
   ]
  },
  {
   "cell_type": "markdown",
   "metadata": {},
   "source": [
    "4 평균"
   ]
  },
  {
   "cell_type": "code",
   "execution_count": null,
   "metadata": {},
   "outputs": [],
   "source": [
    "cnt = int(input())\n",
    "a= (input().split())\n",
    "a = [int(i) for i in a] \n",
    "sumscore = 0\n",
    "maxscore = max(a)\n",
    "\n",
    "for i in a :\n",
    "    sumscore =sumscore+((i/ maxscore) * 100)    \n",
    "print(sumscore/cnt)\n",
    "\n",
    "#w hyerin"
   ]
  },
  {
   "cell_type": "markdown",
   "metadata": {},
   "source": [
    "5 평균은 넘겠지"
   ]
  },
  {
   "cell_type": "code",
   "execution_count": null,
   "metadata": {},
   "outputs": [],
   "source": [
    "testcase = int(input())\n",
    "x = [None]*testcase\n",
    "\n",
    "for i in range(testcase):\n",
    "    v = list(map(int,input().split()))\n",
    "    sumscore = 0\n",
    "    z=0\n",
    "    for j in v[1:] :\n",
    "        sumscore += j \n",
    "    avgscore = sumscore/v[0]        \n",
    "    for k in range(1,len(v)):\n",
    "        if v[k] > avgscore:\n",
    "            z+=1            \n",
    "    x[i] = (z /v[0]) * 100\n",
    "        \n",
    "for i in x:\n",
    "    print(\"%0.3f\"%round(i,3),\"%\",sep='')\n",
    "\n",
    "#w hyerin"
   ]
  },
  {
   "cell_type": "markdown",
   "metadata": {},
   "source": [
    "6 더하기 사이클"
   ]
  },
  {
   "cell_type": "code",
   "execution_count": 51,
   "metadata": {},
   "outputs": [
    {
     "name": "stdout",
     "output_type": "stream",
     "text": [
      "15\n",
      "60\n"
     ]
    }
   ],
   "source": [
    "num = int(input())  #26\n",
    "cnt =1\n",
    "new=num\n",
    "while True :\n",
    "    if new < 10:\n",
    "        sip = 0\n",
    "    else :\n",
    "        sip = new//10  #2 6 8 4\n",
    "    ill = new%10  #6 8 4 2\n",
    "    sumnum = sip+ill #8 14 12 6\n",
    "    new = ill*10 + sumnum%10 #68 84 42 26\n",
    "    if new == num : #26=26\n",
    "        break\n",
    "    else :\n",
    "        cnt +=1    \n",
    "print(cnt)\n",
    "\n",
    "#w hyerin"
   ]
  }
 ],
 "metadata": {
  "kernelspec": {
   "display_name": "Python 3",
   "language": "python",
   "name": "python3"
  },
  "language_info": {
   "codemirror_mode": {
    "name": "ipython",
    "version": 3
   },
   "file_extension": ".py",
   "mimetype": "text/x-python",
   "name": "python",
   "nbconvert_exporter": "python",
   "pygments_lexer": "ipython3",
   "version": "3.5.4"
  }
 },
 "nbformat": 4,
 "nbformat_minor": 2
}
