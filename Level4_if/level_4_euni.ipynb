{
 "cells": [
  {
   "cell_type": "code",
   "execution_count": 1,
   "metadata": {},
   "outputs": [
    {
     "name": "stdout",
     "output_type": "stream",
     "text": [
      "80\n",
      "B\n"
     ]
    }
   ],
   "source": [
    "grade = int(input())\n",
    "\n",
    "if grade >= 90: print('A')\n",
    "elif grade >= 80: print('B')\n",
    "elif grade >= 70: print('C')\n",
    "elif grade >= 60: print('D')\n",
    "else: print('F')"
   ]
  },
  {
   "cell_type": "code",
   "execution_count": 43,
   "metadata": {},
   "outputs": [
    {
     "name": "stdout",
     "output_type": "stream",
     "text": [
      "10 20 30\n",
      "20\n"
     ]
    }
   ],
   "source": [
    "# sort 이용\n",
    "# li_1 = [int(x) for x in input().split()]\n",
    "\n",
    "# li_1.reverse()\n",
    "\n",
    "# print(li_1[1])\n",
    "\n",
    "# c를 제일 큰 수로, b를 출력\n",
    "\n",
    "a,b,c = map(int, input().split())\n",
    "\n",
    "if a > b:\n",
    "    b, a = a, b\n",
    "if a > c:\n",
    "    c, a = a, c\n",
    "if b > c:\n",
    "    c, b = b, c\n",
    "print(b)"
   ]
  },
  {
   "cell_type": "code",
   "execution_count": 44,
   "metadata": {},
   "outputs": [
    {
     "name": "stdout",
     "output_type": "stream",
     "text": [
      "10 5\n",
      "1 10 4 9 2 3 8 5 7 6\n",
      "1 4 2 3 "
     ]
    }
   ],
   "source": [
    "a, b = map(int, input().split())\n",
    "\n",
    "li_ = [int(x) for x in input().split()]\n",
    "\n",
    "for i in li_:\n",
    "    if i < b :\n",
    "        print(i, end=' ')\n"
   ]
  },
  {
   "cell_type": "code",
   "execution_count": 47,
   "metadata": {},
   "outputs": [
    {
     "name": "stdout",
     "output_type": "stream",
     "text": [
      "4\n",
      "1 100 100 100\n",
      "75.25\n"
     ]
    }
   ],
   "source": [
    "a = int(input())\n",
    "\n",
    "li_ = [int(x) for x in input().split()]\n",
    "\n",
    "result = 0\n",
    "for i in range(len(li_)):\n",
    "    result += li_[i]/max(li_)*100\n",
    "    \n",
    "print(result / a)"
   ]
  },
  {
   "cell_type": "code",
   "execution_count": null,
   "metadata": {
    "collapsed": true
   },
   "outputs": [],
   "source": [
    "a = int(input())\n",
    "\n",
    "for i in range(a):\n",
    "    li_ = [int(x) for x in input().split()]\n",
    "    first = li_.pop(0)\n",
    "    avg = (sum(li_) / first)\n",
    "    cnt = 0\n",
    "\n",
    "    for i in range(first):\n",
    "        if li_[i] > avg:\n",
    "            cnt += 1\n",
    "\n",
    "    print(\"%0.3f\" % ((cnt/first)*100),'%',sep='')"
   ]
  },
  {
   "cell_type": "code",
   "execution_count": 38,
   "metadata": {},
   "outputs": [
    {
     "name": "stdout",
     "output_type": "stream",
     "text": [
      "6\n",
      "0\n"
     ]
    }
   ],
   "source": [
    "# 6 -> 0\n",
    "n = input()\n",
    "\n",
    "if len(n) < 2:\n",
    "    n = '0'+ n\n",
    "b = int(n[-1])\n",
    "a = int(n[0]) + b\n",
    "n2 = a\n",
    "# c = int(str(a)[-1])\n",
    "# print(a, b, c)\n",
    "cnt = 0\n",
    "\n",
    "while True:\n",
    "    \n",
    "    if int(n) == n2:\n",
    "        print(cnt)\n",
    "        break\n",
    "        \n",
    "    c = int(str(a)[-1])\n",
    "    n2 = int(str(b) + str(c))        \n",
    "    a = b + c\n",
    "    b= c\n",
    "    \n",
    "    cnt += 1\n",
    "#     print(a,b,c,n2)\n",
    "        "
   ]
  },
  {
   "cell_type": "code",
   "execution_count": 39,
   "metadata": {},
   "outputs": [
    {
     "name": "stdout",
     "output_type": "stream",
     "text": [
      "6\n",
      "20\n"
     ]
    }
   ],
   "source": [
    "# 6 -> 20\n",
    "n = input()\n",
    "\n",
    "if len(n) < 2:\n",
    "    n = '0'+ n\n",
    "b = int(n[-1])\n",
    "a = int(n[0]) + b\n",
    "c = int(str(a)[-1])\n",
    "# print(a, b, c)\n",
    "cnt = 0\n",
    "\n",
    "while True:\n",
    "    \n",
    "    n2 = int(str(b) + str(c))        \n",
    "    a = b + c\n",
    "    b= c\n",
    "    c = int(str(a)[-1])\n",
    "    \n",
    "    cnt += 1\n",
    "#    print(a,b,c,n2)\n",
    "    if int(n) == n2:\n",
    "        print(cnt)\n",
    "        break"
   ]
  }
 ],
 "metadata": {
  "kernelspec": {
   "display_name": "Python 3",
   "language": "python",
   "name": "python3"
  },
  "language_info": {
   "codemirror_mode": {
    "name": "ipython",
    "version": 3
   },
   "file_extension": ".py",
   "mimetype": "text/x-python",
   "name": "python",
   "nbconvert_exporter": "python",
   "pygments_lexer": "ipython3",
   "version": "3.6.3"
  }
 },
 "nbformat": 4,
 "nbformat_minor": 2
}
