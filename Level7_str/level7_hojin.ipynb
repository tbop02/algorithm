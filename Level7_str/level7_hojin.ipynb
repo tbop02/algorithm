{
 "cells": [
  {
   "cell_type": "markdown",
   "metadata": {},
   "source": [
    "1 아스키코드"
   ]
  },
  {
   "cell_type": "code",
   "execution_count": null,
   "metadata": {},
   "outputs": [],
   "source": [
    "a=input()\n",
    "print(ord(a))"
   ]
  },
  {
   "cell_type": "markdown",
   "metadata": {},
   "source": [
    "2 알파벳 찾기"
   ]
  },
  {
   "cell_type": "code",
   "execution_count": 59,
   "metadata": {},
   "outputs": [
    {
     "name": "stdout",
     "output_type": "stream",
     "text": [
      "backjoon\n",
      "1 0 2 -1 -1 -1 -1 -1 -1 4 3 -1 -1 7 5 -1 -1 -1 -1 -1 -1 -1 -1 -1 -1 -1 "
     ]
    }
   ],
   "source": [
    "sen = list(input())\n",
    "alp=['a','b','c','d','e','f','g','h','i','j','k','l','m','n','o','p','q','r','s','t','u','v','w','x','y','z']\n",
    "for i in alp:\n",
    "    if i in sen:\n",
    "        print(sen.index(i),end=' ')\n",
    "    else:\n",
    "        print(-1,end=' ')"
   ]
  },
  {
   "cell_type": "markdown",
   "metadata": {},
   "source": [
    "3 문자열 반복"
   ]
  },
  {
   "cell_type": "code",
   "execution_count": null,
   "metadata": {},
   "outputs": [],
   "source": [
    "#with rini\n",
    "casenum=int(input())\n",
    "txt=[]\n",
    "num=0\n",
    "sen=[]\n",
    "for i in range(casenum):\n",
    "    i = input().split()\n",
    "    txt.append(i)\n",
    "z=[]\n",
    "for j in range(len(txt)):\n",
    "    num=int(txt[j][0])\n",
    "    sen=txt[j][1]\n",
    "    for k in sen:\n",
    "        print(num*k,end='')\n",
    "    print(\"\")"
   ]
  },
  {
   "cell_type": "markdown",
   "metadata": {},
   "source": [
    "4 단어공부"
   ]
  },
  {
   "cell_type": "code",
   "execution_count": 68,
   "metadata": {},
   "outputs": [
    {
     "name": "stdout",
     "output_type": "stream",
     "text": [
      "WdfklwJ\n",
      "W\n"
     ]
    }
   ],
   "source": [
    "word = input().upper()\n",
    "wordlist =list(word)\n",
    "uni=set(wordlist)\n",
    "uni=list(uni)\n",
    "num=[]\n",
    "wordcount={}\n",
    "num=[wordlist.count(i) for i in uni]\n",
    "if num.count(max(num))>1:\n",
    "    print(\"?\")\n",
    "else:\n",
    "    print(uni[num.index(max(num))])\n"
   ]
  },
  {
   "cell_type": "markdown",
   "metadata": {},
   "source": [
    "5 그룹 단어 체커"
   ]
  },
  {
   "cell_type": "code",
   "execution_count": 47,
   "metadata": {},
   "outputs": [
    {
     "name": "stdout",
     "output_type": "stream",
     "text": [
      "3\n",
      "happy\n",
      "new\n",
      "year\n",
      "3\n"
     ]
    }
   ],
   "source": [
    "tnum=int(input())\n",
    "in_list=[input() for _ in range(tnum)]\n",
    "\n",
    "cnt=0\n",
    "for input_ele in in_list:\n",
    "    myinput=list(input_ele)\n",
    "    list_in=list(set(myinput))    \n",
    "    \n",
    "    for unique_word in list_in:     \n",
    "        wlist=[cha_index for cha_index, cha in enumerate(myinput) if unique_word == myinput[cha_index] ]        \n",
    "        if wlist[-1]-wlist[0] != len(wlist)-1:\n",
    "            break\n",
    "    else:\n",
    "        cnt+=1\n",
    "print(cnt)"
   ]
  },
  {
   "cell_type": "markdown",
   "metadata": {},
   "source": [
    "6 단어의 개수"
   ]
  },
  {
   "cell_type": "code",
   "execution_count": null,
   "metadata": {},
   "outputs": [],
   "source": [
    "#with rini\n",
    "cnt = 0\n",
    "txt = input().split()\n",
    "sen=[cnt for cnt in txt]\n",
    "print(len(sen))"
   ]
  },
  {
   "cell_type": "markdown",
   "metadata": {},
   "source": [
    "7 상수"
   ]
  },
  {
   "cell_type": "code",
   "execution_count": null,
   "metadata": {},
   "outputs": [],
   "source": [
    "a,b = map(str,input().split())\n",
    "newnum1=''\n",
    "newnum2=''\n",
    "for i in range(3,0,-1):\n",
    "    newnum1+=a[i-1]\n",
    "    newnum2+=b[i-1]\n",
    "a_new=int(newnum1)\n",
    "b_new=int(newnum2)\n",
    "print(max(a_new,b_new))"
   ]
  },
  {
   "cell_type": "markdown",
   "metadata": {},
   "source": [
    "8 다이얼"
   ]
  },
  {
   "cell_type": "code",
   "execution_count": 67,
   "metadata": {},
   "outputs": [
    {
     "name": "stdout",
     "output_type": "stream",
     "text": [
      "UNUCIC\n",
      "36\n"
     ]
    }
   ],
   "source": [
    "phone={2:'ABC',3:'DEF',4:'GHI',5:'JKL',6:'MNO',7:'PQRS',8:'TUV',9:'WXYZ'}\n",
    "sen=input()\n",
    "t_time=0\n",
    "for key,value in phone.items():\n",
    "    for cha in sen:\n",
    "        if cha in value:\n",
    "            t_time+=key+1\n",
    "print(t_time)"
   ]
  },
  {
   "cell_type": "markdown",
   "metadata": {},
   "source": [
    "9 크로아티아 알파벳"
   ]
  },
  {
   "cell_type": "code",
   "execution_count": 64,
   "metadata": {},
   "outputs": [
    {
     "name": "stdout",
     "output_type": "stream",
     "text": [
      "in_cnt=0\n",
      "8\n"
     ]
    }
   ],
   "source": [
    "c_list=['c=','c-','dz=','d-','lj','nj','s=','z=']\n",
    "instr=(input())\n",
    "cnt=0\n",
    "while True:\n",
    "    in_cnt=0\n",
    "    for i in c_list:\n",
    "        if instr.find(i) != -1:\n",
    "            cnt+=1\n",
    "            in_cnt+=1\n",
    "            instr=instr.replace(i,'/',1)              \n",
    "    if in_cnt==0:\n",
    "        break\n",
    "print(cnt+len(instr.replace('/','')))"
   ]
  }
 ],
 "metadata": {
  "kernelspec": {
   "display_name": "Python 3",
   "language": "python",
   "name": "python3"
  },
  "language_info": {
   "codemirror_mode": {
    "name": "ipython",
    "version": 3
   },
   "file_extension": ".py",
   "mimetype": "text/x-python",
   "name": "python",
   "nbconvert_exporter": "python",
   "pygments_lexer": "ipython3",
   "version": "3.5.4"
  }
 },
 "nbformat": 4,
 "nbformat_minor": 2
}
