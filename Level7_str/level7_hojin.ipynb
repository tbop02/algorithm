{
 "cells": [
  {
   "cell_type": "markdown",
   "metadata": {},
   "source": [
    "2941 크로아티아 알파벳"
   ]
  },
  {
   "cell_type": "code",
   "execution_count": 64,
   "metadata": {},
   "outputs": [
    {
     "name": "stdout",
     "output_type": "stream",
     "text": [
      "in_cnt=0\n",
      "8\n"
     ]
    }
   ],
   "source": [
    "c_list=['c=','c-','dz=','d-','lj','nj','s=','z=']\n",
    "instr=(input())\n",
    "cnt=0\n",
    "while True:\n",
    "    in_cnt=0\n",
    "    for i in c_list:\n",
    "        if instr.find(i) != -1:\n",
    "            cnt+=1\n",
    "            in_cnt+=1\n",
    "            instr=instr.replace(i,'/',1)              \n",
    "    if in_cnt==0:\n",
    "        break\n",
    "print(cnt+len(instr.replace('/','')))"
   ]
  }
 ],
 "metadata": {
  "kernelspec": {
   "display_name": "Python 3",
   "language": "python",
   "name": "python3"
  },
  "language_info": {
   "codemirror_mode": {
    "name": "ipython",
    "version": 3
   },
   "file_extension": ".py",
   "mimetype": "text/x-python",
   "name": "python",
   "nbconvert_exporter": "python",
   "pygments_lexer": "ipython3",
   "version": "3.5.4"
  }
 },
 "nbformat": 4,
 "nbformat_minor": 2
}
