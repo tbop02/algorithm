{
 "cells": [
  {
   "cell_type": "markdown",
   "metadata": {},
   "source": [
    "1.아스키코드"
   ]
  },
  {
   "cell_type": "code",
   "execution_count": null,
   "metadata": {},
   "outputs": [],
   "source": [
    "a=input()\n",
    "\n",
    "print(ord(a))\n"
   ]
  },
  {
   "cell_type": "markdown",
   "metadata": {},
   "source": [
    "2.알파벳 찾기"
   ]
  },
  {
   "cell_type": "code",
   "execution_count": null,
   "metadata": {
    "scrolled": true
   },
   "outputs": [],
   "source": [
    "sen = input()\n",
    "sen=list(sen)\n",
    "alp=['a','b','c','d','e','f','g','h','i','j','k','l','m','n','o','p','q','r','s','t','u','v','w','x','y','z']\n",
    "num=[]\n",
    "\n",
    "for i in alp:\n",
    "    if i in sen:\n",
    "        num.append(sen.index(i))\n",
    "    else :\n",
    "        num.append(-1)\n",
    "for j in num:\n",
    "    print(j,end=' ')\n"
   ]
  },
  {
   "cell_type": "markdown",
   "metadata": {},
   "source": [
    "3.문자열 반복"
   ]
  },
  {
   "cell_type": "code",
   "execution_count": null,
   "metadata": {
    "scrolled": false
   },
   "outputs": [],
   "source": [
    "casenum=int(input())\n",
    "txt=[]\n",
    "num=0\n",
    "sen=[]\n",
    "\n",
    "for i in range(casenum):\n",
    "    i = input().split()\n",
    "    txt.append(i)\n",
    "z=[]\n",
    "for j in range(len(txt)):\n",
    "    num=int(txt[j][0])\n",
    "    sen=txt[j][1]\n",
    "    for k in sen:\n",
    "        print(num*k,end='')# 나눠주세요\n",
    "    print(\"\")"
   ]
  },
  {
   "cell_type": "markdown",
   "metadata": {},
   "source": [
    "4.단어공부"
   ]
  },
  {
   "cell_type": "code",
   "execution_count": 32,
   "metadata": {
    "scrolled": true
   },
   "outputs": [
    {
     "name": "stdout",
     "output_type": "stream",
     "text": [
      "jiji\n",
      "?\n"
     ]
    }
   ],
   "source": [
    "word = input().upper()\n",
    "wordlist =list(word)\n",
    "uni=set(wordlist)\n",
    "uni=list(uni)\n",
    "num=[]\n",
    "wordcount={}\n",
    "for i in uni:\n",
    "    num.append(wordlist.count(i))\n",
    "if num.count(max(num))>1:\n",
    "    print(\"?\")\n",
    "else:\n",
    "# print(max(num))\n",
    "# print(uni)\n",
    "# print(num)\n",
    "# print(num.index(max(num)))\n",
    "    print(uni[num.index(max(num))])\n",
    "# with jini"
   ]
  },
  {
   "cell_type": "markdown",
   "metadata": {},
   "source": [
    "5.그룹 단어 체커"
   ]
  },
  {
   "cell_type": "code",
   "execution_count": null,
   "metadata": {},
   "outputs": [],
   "source": []
  },
  {
   "cell_type": "markdown",
   "metadata": {},
   "source": [
    "6.단어의 개수"
   ]
  },
  {
   "cell_type": "code",
   "execution_count": null,
   "metadata": {},
   "outputs": [],
   "source": [
    "cnt = 0\n",
    "txt = input().split()\n",
    "sen=[]\n",
    "\n",
    "for cnt in txt:\n",
    "    sen.append(cnt)\n",
    "    \n",
    "print(len(sen))\n"
   ]
  },
  {
   "cell_type": "markdown",
   "metadata": {},
   "source": [
    "7.상수"
   ]
  },
  {
   "cell_type": "code",
   "execution_count": null,
   "metadata": {},
   "outputs": [],
   "source": [
    "a,b = map(str,input().split())\n",
    "newnum1=''\n",
    "newnum2=''\n",
    "for i in range(3,0,-1):\n",
    "    newnum1+=a[i-1]\n",
    "    newnum2+=b[i-1]\n",
    "a_new=int(newnum1)\n",
    "b_new=int(newnum2)\n",
    "print(max(a_new,b_new))"
   ]
  },
  {
   "cell_type": "markdown",
   "metadata": {},
   "source": [
    "8.다이얼"
   ]
  },
  {
   "cell_type": "code",
   "execution_count": 42,
   "metadata": {},
   "outputs": [
    {
     "name": "stdout",
     "output_type": "stream",
     "text": [
      "1\n"
     ]
    },
    {
     "ename": "TypeError",
     "evalue": "'dict' object is not callable",
     "output_type": "error",
     "traceback": [
      "\u001b[1;31m---------------------------------------------------------------------------\u001b[0m",
      "\u001b[1;31mTypeError\u001b[0m                                 Traceback (most recent call last)",
      "\u001b[1;32m<ipython-input-42-1efb04db77e3>\u001b[0m in \u001b[0;36m<module>\u001b[1;34m()\u001b[0m\n\u001b[0;32m      2\u001b[0m \u001b[1;31m# sen=input()\u001b[0m\u001b[1;33m\u001b[0m\u001b[1;33m\u001b[0m\u001b[0m\n\u001b[0;32m      3\u001b[0m \u001b[0mprint\u001b[0m\u001b[1;33m(\u001b[0m\u001b[0mphone\u001b[0m\u001b[1;33m[\u001b[0m\u001b[1;34m'ABC'\u001b[0m\u001b[1;33m]\u001b[0m\u001b[1;33m)\u001b[0m\u001b[1;33m\u001b[0m\u001b[0m\n\u001b[1;32m----> 4\u001b[1;33m \u001b[0mprint\u001b[0m\u001b[1;33m(\u001b[0m\u001b[0mphone\u001b[0m\u001b[1;33m(\u001b[0m\u001b[1;36m0\u001b[0m\u001b[1;33m)\u001b[0m\u001b[1;33m)\u001b[0m\u001b[1;33m\u001b[0m\u001b[0m\n\u001b[0m\u001b[0;32m      5\u001b[0m \u001b[1;33m\u001b[0m\u001b[0m\n",
      "\u001b[1;31mTypeError\u001b[0m: 'dict' object is not callable"
     ]
    }
   ],
   "source": [
    "phone={'ABC':1,'DEF':2,'GHI':4,'JKL':5,'MNO':6,'PQRS':7,'TUV':8,'WXYZ':9}\n",
    "# sen=input()\n",
    "print(phone['ABC'])\n",
    "print(phone(0))\n",
    "        "
   ]
  },
  {
   "cell_type": "markdown",
   "metadata": {},
   "source": [
    "9.크로아티아 알파벳"
   ]
  },
  {
   "cell_type": "code",
   "execution_count": null,
   "metadata": {},
   "outputs": [],
   "source": []
  }
 ],
 "metadata": {
  "kernelspec": {
   "display_name": "Python 3",
   "language": "python",
   "name": "python3"
  },
  "language_info": {
   "codemirror_mode": {
    "name": "ipython",
    "version": 3
   },
   "file_extension": ".py",
   "mimetype": "text/x-python",
   "name": "python",
   "nbconvert_exporter": "python",
   "pygments_lexer": "ipython3",
   "version": "3.5.4"
  }
 },
 "nbformat": 4,
 "nbformat_minor": 2
}
